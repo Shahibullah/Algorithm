{
  "nbformat": 4,
  "nbformat_minor": 0,
  "metadata": {
    "colab": {
      "provenance": []
    },
    "kernelspec": {
      "name": "python3",
      "display_name": "Python 3"
    },
    "language_info": {
      "name": "python"
    }
  },
  "cells": [
    {
      "cell_type": "markdown",
      "source": [
        "#A. Can you Traverse-1?\n",
        "#BFS\n"
      ],
      "metadata": {
        "id": "fiPNNkv5HIJo"
      }
    },
    {
      "cell_type": "markdown",
      "source": [],
      "metadata": {
        "id": "h8jNqugkHIPd"
      }
    },
    {
      "cell_type": "code",
      "source": [
        "\n",
        "n, m = map(int, input().split())\n",
        "\n",
        "graph = [[] for i in range(n + 1)]\n",
        "\n",
        "for i in range(m):\n",
        "    u, v = map(int, input().split())\n",
        "    graph[u].append(v)\n",
        "    graph[v].append(u)\n",
        "\n",
        "\n",
        "for neighbors in graph:\n",
        "    neighbors.sort()\n",
        "\n",
        "visited = [False] * (n + 1)\n",
        "queue = []\n",
        "order = []\n",
        "\n",
        "\n",
        "queue.append(1)\n",
        "visited[1] = True\n",
        "front = 0\n",
        "\n",
        "while front < len(queue):\n",
        "    u = queue[front]\n",
        "    front += 1\n",
        "    order.append(u)\n",
        "    for v in graph[u]:\n",
        "        if not visited[v]:\n",
        "            visited[v] = True\n",
        "            queue.append(v)\n",
        "\n",
        "\n",
        "print(' '.join(map(str, order)))\n",
        "# 4 3\n",
        "# 1 4\n",
        "# 3 2\n",
        "# 1 3\n",
        "# OutputCopy\n",
        "# 1 3 4 2"
      ],
      "metadata": {
        "colab": {
          "base_uri": "https://localhost:8080/"
        },
        "id": "UxGEcB1gIEhz",
        "outputId": "e9990604-b886-4bf9-c278-0543ba4f6def"
      },
      "execution_count": null,
      "outputs": [
        {
          "output_type": "stream",
          "name": "stdout",
          "text": [
            "4 3\n",
            "1 4\n",
            "3 2\n",
            "3 1\n",
            "1 3 4 2\n"
          ]
        }
      ]
    },
    {
      "cell_type": "markdown",
      "source": [
        "#B. Can you Traverse-2?  [DFS]"
      ],
      "metadata": {
        "id": "WNKx2-JNIrAW"
      }
    },
    {
      "cell_type": "code",
      "source": [
        "\n",
        "n, m = map(int, input().split())\n",
        "u_list = list(map(int, input().split()))\n",
        "v_list = list(map(int, input().split()))\n",
        "\n",
        "graph = [[] for i in range(n + 1)]\n",
        "\n",
        "for u, v in zip(u_list, v_list):\n",
        "    graph[u].append(v)\n",
        "    graph[v].append(u)\n",
        "\n",
        "\n",
        "for neighbors in graph:\n",
        "    neighbors.sort(reverse=True)\n",
        "\n",
        "visited = [False] * (n + 1)\n",
        "stack = [1]\n",
        "order = []\n",
        "\n",
        "while stack:\n",
        "    u = stack.pop()\n",
        "    if not visited[u]:\n",
        "        visited[u] = True\n",
        "        order.append(u)\n",
        "        for v in graph[u]:\n",
        "            if not visited[v]:\n",
        "                stack.append(v)\n",
        "\n",
        "print(' '.join(map(str, order)))\n",
        "\n",
        "# InputCopy\n",
        "# 5 7\n",
        "# 5 1 3 2 4 4 4\n",
        "# 1 3 2 4 1 3 5\n",
        "# OutputCopy\n",
        "# 1 3 2 4 5"
      ],
      "metadata": {
        "colab": {
          "base_uri": "https://localhost:8080/"
        },
        "id": "e2DjOxbTIvFx",
        "outputId": "e185eeb1-88a2-48e1-b302-ca3ef45aa719"
      },
      "execution_count": null,
      "outputs": [
        {
          "output_type": "stream",
          "name": "stdout",
          "text": [
            "5 7\n",
            "5 1 3 2 4 4 4\n",
            "1 3 2 4 1 3 5\n",
            "1 3 2 4 5\n"
          ]
        }
      ]
    },
    {
      "cell_type": "markdown",
      "source": [
        "#C. Lightning McQueen BFS\n",
        "\n",
        "\n"
      ],
      "metadata": {
        "id": "VovfWQ3ZKYm-"
      }
    },
    {
      "cell_type": "code",
      "source": [
        "from collections import deque\n",
        "\n",
        "\n",
        "n, m, s, d = map(int, input().split())\n",
        "u_list = list(map(int, input().split()))\n",
        "v_list = list(map(int, input().split()))\n",
        "\n",
        "\n",
        "graph = [[] for i in range(n + 1)]\n",
        "for u, v in zip(u_list, v_list):\n",
        "    graph[u].append(v)\n",
        "    graph[v].append(u)\n",
        "\n",
        "\n",
        "for neighbors in graph:\n",
        "    neighbors.sort()\n",
        "\n",
        "\n",
        "dist = [-1] * (n + 1)\n",
        "parent = [-1] * (n + 1)\n",
        "queue = deque()\n",
        "\n",
        "dist[s] = 0\n",
        "queue.append(s)\n",
        "\n",
        "while queue:\n",
        "    u = queue.popleft()\n",
        "    for v in graph[u]:\n",
        "        if dist[v] == -1:\n",
        "            dist[v] = dist[u] + 1\n",
        "            parent[v] = u\n",
        "            queue.append(v)\n",
        "\n",
        "if dist[d] == -1:\n",
        "    print(-1)\n",
        "else:\n",
        "\n",
        "    path = []\n",
        "    current = d\n",
        "    while current != -1:\n",
        "        path.append(current)\n",
        "        current = parent[current]\n",
        "    path.reverse()\n",
        "\n",
        "\n",
        "    print(len(path) - 1)\n",
        "    print(' '.join(map(str, path)))\n",
        "#input :\n",
        "# 5 4 2 5\n",
        "# 5 1 2 4\n",
        "# 1 3 3 2\n",
        "# Output:\n",
        "# 3\n",
        "# 2 3 1 5"
      ],
      "metadata": {
        "colab": {
          "base_uri": "https://localhost:8080/"
        },
        "id": "-y0BVDGvKa5T",
        "outputId": "b1cab36d-baf1-4877-ee8a-8f954325d571"
      },
      "execution_count": null,
      "outputs": [
        {
          "output_type": "stream",
          "name": "stdout",
          "text": [
            "5 4 2 5\n",
            "5 1 2 4\n",
            "1 3 3 2\n",
            "3\n",
            "2 3 1 5\n"
          ]
        }
      ]
    },
    {
      "cell_type": "markdown",
      "source": [
        "#D. Through the Jungle [BFS]"
      ],
      "metadata": {
        "id": "0-zxkouSLn60"
      }
    },
    {
      "cell_type": "code",
      "source": [
        "def bfs(start, graph, n):\n",
        "    dist = [-1] * (n + 1)\n",
        "    parent = [-1] * (n + 1)\n",
        "    q = [start]\n",
        "    dist[start] = 0\n",
        "\n",
        "    head = 0\n",
        "    while head < len(q):\n",
        "        u = q[head]\n",
        "        head += 1\n",
        "        for v in graph[u]:\n",
        "            if dist[v] == -1:\n",
        "                dist[v] = dist[u] + 1\n",
        "                parent[v] = u\n",
        "                q.append(v)\n",
        "    return dist, parent\n",
        "\n",
        "\n",
        "n, m, s, d, k = map(int, input().split())\n",
        "graph = [[] for i in range(n + 1)]\n",
        "for i in range(m):\n",
        "    u, v = map(int, input().split())\n",
        "    graph[u].append(v)\n",
        "\n",
        "\n",
        "if s == d == k:\n",
        "    print(0)\n",
        "    print(s)\n",
        "    exit()\n",
        "\n",
        "\n",
        "dist_s, parent_s = bfs(s, graph, n)\n",
        "\n",
        "dist_k, parent_k = bfs(k, graph, n)\n",
        "\n",
        "\n",
        "if dist_s[k] == -1 or dist_k[d] == -1:\n",
        "    print(-1)\n",
        "    exit()\n",
        "\n",
        "\n",
        "path1 = []\n",
        "cur = k\n",
        "while cur != -1:\n",
        "    path1.append(cur)\n",
        "    cur = parent_s[cur]\n",
        "path1.reverse()\n",
        "\n",
        "\n",
        "path2 = []\n",
        "cur = d\n",
        "while cur != -1:\n",
        "    path2.append(cur)\n",
        "    cur = parent_k[cur]\n",
        "path2.reverse()\n",
        "\n",
        "\n",
        "full_path = path1 + path2[1:]\n",
        "\n",
        "# Output\n",
        "print(len(full_path) - 1)\n",
        "print(' '.join(map(str, full_path)))\n",
        "# InputCopy\n",
        "# 5 10 5 3 5\n",
        "# 2 5\n",
        "# 5 1\n",
        "# 4 5\n",
        "# 3 5\n",
        "# 1 2\n",
        "# 2 4\n",
        "# 3 2\n",
        "# 1 4\n",
        "# 1 3\n",
        "# 3 4\n",
        "# OutputCopy\n",
        "# 2\n",
        "# 5 1 3\n",
        "\n",
        "p"
      ],
      "metadata": {
        "colab": {
          "base_uri": "https://localhost:8080/"
        },
        "id": "8aglXlCIL5lA",
        "outputId": "1cf58488-2cd5-4564-9616-ff7e156b4ccd"
      },
      "execution_count": null,
      "outputs": [
        {
          "output_type": "stream",
          "name": "stdout",
          "text": [
            "5 10 5 3 5\n",
            "2 5\n",
            "5 1\n",
            "4 5\n",
            "3 5\n",
            "1 2\n",
            "2 4\n",
            "3 2\n",
            "1 4\n",
            "1 3\n",
            "3 4\n",
            "2\n",
            "5 1 3\n"
          ]
        }
      ]
    },
    {
      "cell_type": "markdown",
      "source": [
        "#E. Cycle Detection"
      ],
      "metadata": {
        "id": "BVCZ3Quxcpqs"
      }
    },
    {
      "cell_type": "code",
      "source": [
        "from collections import defaultdict\n",
        "\n",
        "class Graph:\n",
        "    def __init__(self, num_nodes, list_edges, is_directed=False):\n",
        "        self.num_nodes = num_nodes\n",
        "        self.is_directed = is_directed\n",
        "        self.adjacency_list = {i: [] for i in range(1, num_nodes + 1)}\n",
        "        for u, v in list_edges:\n",
        "            self.adjacency_list[u].append(v)\n",
        "            if not is_directed:\n",
        "                self.adjacency_list[v].append(u)\n",
        "\n",
        "    def has_cycle_with_path(self):\n",
        "        visited = [0] * (self.num_nodes + 1)\n",
        "        parent = [0] * (self.num_nodes + 1)\n",
        "        cycle_path = []\n",
        "\n",
        "        def dfs(u):\n",
        "            visited[u] = 1\n",
        "            for v in self.adjacency_list[u]:\n",
        "                if not self.is_directed and v == parent[u]:\n",
        "                    continue\n",
        "                if visited[v] == 0:\n",
        "                    parent[v] = u\n",
        "                    if dfs(v):\n",
        "                        return True\n",
        "                elif visited[v] == 1:\n",
        "\n",
        "                    cycle_path.append(v)\n",
        "                    cur = u\n",
        "                    while cur != v:\n",
        "                        cycle_path.append(cur)\n",
        "                        cur = parent[cur]\n",
        "                    cycle_path.append(v)\n",
        "                    cycle_path.reverse()\n",
        "                    print(\"YES\")\n",
        "\n",
        "                    return True\n",
        "            visited[u] = 2\n",
        "            return False\n",
        "\n",
        "        for node in range(1, self.num_nodes + 1):\n",
        "            if visited[node] == 0:\n",
        "                if dfs(node):\n",
        "                    return\n",
        "        print(\"NO\")\n",
        "\n",
        "\n",
        "\n",
        "num_nodes, num_edges = map(int, input().split())\n",
        "list_edges = [tuple(map(int, input().split())) for j in range(num_edges)]\n",
        "\n",
        "graph = Graph(num_nodes, list_edges, is_directed=True)\n",
        "graph.has_cycle_with_path()\n",
        "\n",
        "# 4 7\n",
        "# 1 3\n",
        "# 1 2\n",
        "# 2 4\n",
        "# 3 1\n",
        "# 2 3\n",
        "# 4 3\n",
        "# 4 1\n",
        "# OutputCopy\n",
        "# YES"
      ],
      "metadata": {
        "colab": {
          "base_uri": "https://localhost:8080/"
        },
        "id": "wFcm3qOW3msc",
        "outputId": "aae08ce8-bc05-4e60-e128-cb01288c0a0e"
      },
      "execution_count": null,
      "outputs": [
        {
          "output_type": "stream",
          "name": "stdout",
          "text": [
            "4 7\n",
            "1 3\n",
            "1 2\n",
            "2 4\n",
            "3 1\n",
            "2 3\n",
            "4 3\n",
            "4 1\n",
            "YES\n",
            "Cycle path: 1 3 1\n"
          ]
        }
      ]
    },
    {
      "cell_type": "markdown",
      "source": [],
      "metadata": {
        "id": "O2ZMbugVcoKC"
      }
    },
    {
      "cell_type": "markdown",
      "source": [
        "#F. Diamonds under W"
      ],
      "metadata": {
        "id": "TqBogGGi0Yje"
      }
    },
    {
      "cell_type": "code",
      "source": [
        "import sys\n",
        "sys.setrecursionlimit(10**6)\n",
        "\n",
        "def solve():\n",
        "\n",
        "    N, M = map(int, input().split())\n",
        "    adj = {i: [] for i in range(1, N + 1)}\n",
        "\n",
        "    for i in range(M):\n",
        "        u, v = map(int, input().split())\n",
        "        adj[u].append(v)\n",
        "\n",
        "    visited = {i: False for i in range(1, N + 1)}\n",
        "    recursion_stack = {i: False for i in range(1, N + 1)}\n",
        "\n",
        "    def dfs(u):\n",
        "        if recursion_stack[u]:\n",
        "            return True\n",
        "        if visited[u]:\n",
        "            return False\n",
        "\n",
        "\n",
        "        visited[u] = True\n",
        "        recursion_stack[u] = True\n",
        "\n",
        "\n",
        "        for v in adj[u]:\n",
        "            if dfs(v):\n",
        "                return True\n",
        "\n",
        "\n",
        "        recursion_stack[u] = False\n",
        "        return False\n",
        "\n",
        "\n",
        "    for i in range(1, N + 1):\n",
        "        if not visited[i]:\n",
        "            if dfs(i):\n",
        "                print(\"YES\")\n",
        "                return\n",
        "\n",
        "    print(\"NO\")\n",
        "\n",
        "\n",
        "solve()\n",
        "\n",
        "#InputCopy\n",
        "# 4 7\n",
        "# 1 3\n",
        "# 1 2\n",
        "# 2 4\n",
        "# 3 1\n",
        "# 2 3\n",
        "# 4 3\n",
        "# 4 1\n",
        "# OutputCopy\n",
        "# YES"
      ],
      "metadata": {
        "colab": {
          "base_uri": "https://localhost:8080/"
        },
        "id": "zbd7Z1z5Q_Wb",
        "outputId": "a1f2840d-2208-4a7f-9013-15645b10869c"
      },
      "execution_count": null,
      "outputs": [
        {
          "output_type": "stream",
          "name": "stdout",
          "text": [
            "4 7\n",
            "1 3\n",
            "1 2\n",
            "2 4\n",
            "3 1\n",
            "2 3\n",
            "4 3\n",
            "4 1\n",
            "YES\n"
          ]
        }
      ]
    },
    {
      "cell_type": "code",
      "source": [
        "from collections import deque\n",
        "\n",
        "class Graph:\n",
        "    def __init__(self, num_vartices, list_edges, is_directed=True):\n",
        "        self.num_vartices = num_vartices\n",
        "        self.is_directed = is_directed\n",
        "        self.adjacency_list = {}\n",
        "        for i in range(1, num_vartices + 1):\n",
        "            self.adjacency_list[i] = []\n",
        "\n",
        "        for edge in list_edges:\n",
        "            u, v = edge\n",
        "            self.adjacency_list[u].append(v)\n",
        "\n",
        "    def exist_cycle(self):\n",
        "        in_degree = {}\n",
        "        for i in range(1, self.num_vartices + 1):\n",
        "            in_degree[i] = 0\n",
        "\n",
        "        for u in self.adjacency_list:\n",
        "            for v in self.adjacency_list[u]:\n",
        "                in_degree[v] += 1\n",
        "\n",
        "        Q_List = deque()\n",
        "        for vartices in in_degree:\n",
        "            if in_degree[vartices] == 0:\n",
        "                Q_List.append(vartices)\n",
        "\n",
        "        visited_count = 0\n",
        "        while Q_List:\n",
        "            u = Q_List.popleft()\n",
        "            visited_count += 1\n",
        "            for v in self.adjacency_list[u]:\n",
        "                in_degree[v] -= 1\n",
        "                if in_degree[v] == 0:\n",
        "                    Q_List.append(v)\n",
        "\n",
        "        if visited_count != self.num_vartices:\n",
        "            print(\"YES\")\n",
        "        else:\n",
        "            print(\"NO\")\n",
        "\n",
        "\n",
        "# Input reading\n",
        "num_vartices, num_edges = map(int, input().split())\n",
        "list_edges = []\n",
        "for i in range(num_edges):\n",
        "    u, v = map(int, input().split())\n",
        "    list_edges.append((u, v))\n",
        "\n",
        "graph = Graph(num_vartices, list_edges, is_directed=True)\n",
        "graph.exist_cycle()\n"
      ],
      "metadata": {
        "colab": {
          "base_uri": "https://localhost:8080/"
        },
        "id": "u6Kts3qseSIt",
        "outputId": "a807c44e-fcc4-4820-ee0b-4eb8460630d3"
      },
      "execution_count": null,
      "outputs": [
        {
          "output_type": "stream",
          "name": "stdout",
          "text": [
            "4 7\n",
            "1 3\n",
            "1 2\n",
            "2 4\n",
            "3 1\n",
            "2 3\n",
            "4 3\n",
            "4 1\n",
            "YES\n"
          ]
        }
      ]
    },
    {
      "cell_type": "code",
      "source": [
        "from collections import deque\n",
        "\n",
        "row, column = map(int, input().split())\n",
        "row_list = []\n",
        "\n",
        "def creating_matrix(row, column):\n",
        "    matrix = [[0 for _ in range(column)] for _ in range(row)]\n",
        "    return matrix\n",
        "\n",
        "def creating_row_list(row, row_list):\n",
        "    for _ in range(row):\n",
        "        input_row = input()\n",
        "        temp_container = []\n",
        "        for char in input_row:\n",
        "            temp_container.append(char)\n",
        "        row_list.append(temp_container)\n",
        "\n",
        "def inserting_val_in_matrix(row, column, matrix, row_list):\n",
        "    for i in range(row):\n",
        "        for j in range(column):\n",
        "            matrix[i][j] = row_list[i][j]\n",
        "\n",
        "def counting_diamonds(row, column, matrix):\n",
        "    visited = [[False for _ in range(column)] for _ in range(row)]\n",
        "    directions = [(0, 1), (1, 0), (0, -1), (-1, 0)]\n",
        "    current_max = 0\n",
        "    for i in range(row):\n",
        "        for j in range(column):\n",
        "            if not visited[i][j] and matrix[i][j] != \"#\":\n",
        "                diamonds = bfs((i, j), directions, visited, matrix, row, column)\n",
        "                current_max = max(current_max, diamonds)\n",
        "    return current_max\n",
        "\n",
        "def bfs(node, directions, visited, matrix, row, column):\n",
        "    Q_List = deque()\n",
        "    Q_List.append(node)\n",
        "    current_diamonds = 0\n",
        "\n",
        "    while Q_List:\n",
        "        x, y = Q_List.popleft()\n",
        "        if visited[x][y]:\n",
        "            continue\n",
        "        visited[x][y] = True\n",
        "\n",
        "        if matrix[x][y] == 'D':\n",
        "            current_diamonds += 1\n",
        "\n",
        "        for dx, dy in directions:\n",
        "            nx = x + dx\n",
        "            ny = y + dy\n",
        "            if 0 <= nx < row and 0 <= ny < column:\n",
        "                if not visited[nx][ny] and matrix[nx][ny] != \"#\":\n",
        "                    Q_List.append((nx, ny))\n",
        "    return current_diamonds\n",
        "\n",
        "\n",
        "matrix = creating_matrix(row, column)\n",
        "creating_row_list(row, row_list)\n",
        "inserting_val_in_matrix(row, column, matrix, row_list)\n",
        "diamonds = counting_diamonds(row, column, matrix)\n",
        "print(diamonds)\n",
        "# 9 11\n",
        "# .#..D...D..\n",
        "# .#.#######.\n",
        "# D#.#..D..#.\n",
        "# D#D#.###.#D\n",
        "# .#.#..D#.#.\n",
        "# .#.#####.#D\n",
        "# D#..D...D#.\n",
        "# .#########.\n",
        "# ...D..D...D\n",
        "# OutputCopy\n",
        "# 15"
      ],
      "metadata": {
        "id": "5cwTQQF0nCzR"
      },
      "execution_count": null,
      "outputs": []
    }
  ]
}