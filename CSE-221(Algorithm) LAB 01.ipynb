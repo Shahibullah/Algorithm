{
  "nbformat": 4,
  "nbformat_minor": 0,
  "metadata": {
    "colab": {
      "provenance": []
    },
    "kernelspec": {
      "name": "python3",
      "display_name": "Python 3"
    },
    "language_info": {
      "name": "python"
    }
  },
  "cells": [
    {
      "cell_type": "markdown",
      "source": [
        "#(A) Odd or Even?"
      ],
      "metadata": {
        "id": "bXgobA_ZYr5P"
      }
    },
    {
      "cell_type": "code",
      "source": [
        "T=int(input())\n",
        "if 1<=T<=100:\n",
        "    for i in range(T):\n",
        "        x = int(input())\n",
        "        if -10**5<=x<=10**5:\n",
        "            if x%2==0:\n",
        "                print(x,'is an Even number.')\n",
        "            else:\n",
        "                print(x,'is an Odd number.')"
      ],
      "metadata": {
        "id": "pEBoceNrYd65"
      },
      "execution_count": null,
      "outputs": []
    },
    {
      "cell_type": "markdown",
      "source": [
        "#(B) Can you solve Arithmetic Expressions?\n",
        "\n",
        "\n",
        "\n",
        "\n",
        "\n"
      ],
      "metadata": {
        "id": "rrt--JyiYHbj"
      }
    },
    {
      "cell_type": "code",
      "source": [
        "T = int(input())\n",
        "if 1 <= T <= 1000:\n",
        "    for i in range(T):\n",
        "        x = input().strip()\n",
        "        expression = x[10:].strip()\n",
        "        a, operator, b = expression.split()\n",
        "        a, b = int(a), int(b)\n",
        "        if operator == \"+\":\n",
        "            result = a + b\n",
        "        elif operator == \"-\":\n",
        "            result = a - b\n",
        "        elif operator == \"*\":\n",
        "            result = a * b\n",
        "        elif operator == \"/\":\n",
        "            result = a / b\n",
        "        print(f\"{result:.6f}\")\n"
      ],
      "metadata": {
        "id": "rBDx0Wqvyfe-"
      },
      "execution_count": null,
      "outputs": []
    },
    {
      "cell_type": "markdown",
      "source": [],
      "metadata": {
        "id": "B6FqfuDuYGCW"
      }
    },
    {
      "cell_type": "markdown",
      "source": [
        "#(C) Array Reverse"
      ],
      "metadata": {
        "id": "2uKMrI8xY8pW"
      }
    },
    {
      "cell_type": "code",
      "source": [
        "N = input()\n",
        "K = input()\n",
        "# 8 5\n",
        "# 20 8 9 3 10 7 100 12\n",
        "N = N.split(\" \")\n",
        "K = K.split(\" \")\n",
        "\n",
        "n = len(K)\n",
        "for i in range(n // 2):\n",
        "    K[i], K[n - 1 - i] = K[n - 1 - i], K[i]\n",
        "\n",
        "for i in range(-int(N[1]), 0, 1):\n",
        "    print(K[i], end=\" \")"
      ],
      "metadata": {
        "id": "uaNPtiuwy2fm"
      },
      "execution_count": null,
      "outputs": []
    },
    {
      "cell_type": "markdown",
      "source": [
        "# (D) Fast Sum"
      ],
      "metadata": {
        "id": "qTsdDLdeZIAr"
      }
    },
    {
      "cell_type": "code",
      "source": [
        "T = int(input())\n",
        "if (1 <= T <= 10**4):\n",
        "    for i in range(T):\n",
        "        N = int(input())\n",
        "        if (1 <= N <= 10**6):\n",
        "            print((N * (N + 1)) // 2)"
      ],
      "metadata": {
        "id": "85eTPcO80T8s"
      },
      "execution_count": null,
      "outputs": []
    },
    {
      "cell_type": "markdown",
      "source": [
        "#(E) Bubble Sort?"
      ],
      "metadata": {
        "id": "toSMzkwlZXHb"
      }
    },
    {
      "cell_type": "code",
      "source": [
        " def bubbleSort(arr):\n",
        "    n = len(arr)\n",
        "\n",
        "    for i in range(n - 1):\n",
        "        swapped = False\n",
        "\n",
        "        for j in range(n - i - 1):\n",
        "            if arr[j] > arr[j + 1]:\n",
        "\n",
        "                arr[j], arr[j + 1] = arr[j + 1], arr[j]\n",
        "                swapped = True\n",
        "        if not swapped:\n",
        "            break\n",
        "\n",
        "    return arr\n",
        "\n",
        "\n",
        "N = int(input())\n",
        "arr = list(map(int, input().split()))\n",
        "\n",
        "sorted_arr = bubbleSort(arr)\n",
        "print(\" \".join(map(str, sorted_arr)))"
      ],
      "metadata": {
        "id": "V7qVVf-70U6M"
      },
      "execution_count": null,
      "outputs": []
    },
    {
      "cell_type": "markdown",
      "source": [
        "#(F) Sorting Again??"
      ],
      "metadata": {
        "id": "MykX6PijZqVm"
      }
    },
    {
      "cell_type": "code",
      "source": [
        "N = int(input())\n",
        "student_ids = list(map(int, input().split()))\n",
        "student_marks = list(map(int, input().split()))\n",
        "students = []\n",
        "\n",
        "\n",
        "for i in range(N):\n",
        "    if 1 <= student_ids[i] <= 1000 and 1 <= student_marks[i] <= 1000:\n",
        "        students.append((student_marks[i], student_ids[i]))\n",
        "\n",
        "swaps = 0\n",
        "\n",
        "for i in range(N):\n",
        "    max_idx = i\n",
        "    for j in range(i + 1, N):\n",
        "\n",
        "        if (students[j][0] > students[max_idx][0]) or (students[j][0] == students[max_idx][0] and students[j][1] < students[max_idx][1]):\n",
        "            max_idx = j\n",
        "\n",
        "\n",
        "    if max_idx != i:\n",
        "        students[i], students[max_idx] = students[max_idx], students[i]\n",
        "        swaps += 1\n",
        "\n",
        "print(f\"Minimum swaps: {swaps}\")\n",
        "for mark, student_id in students:\n",
        "    print(f\"ID: {student_id} Mark: {mark}\")\n",
        "\n",
        "\n",
        "\n",
        "\n",
        "\n",
        "# 7\n",
        "# 7 4 9 3 2 5 1\n",
        "# 40 50 50 20 10 10 10"
      ],
      "metadata": {
        "id": "0EMP9GEJZmFF"
      },
      "execution_count": null,
      "outputs": []
    },
    {
      "cell_type": "markdown",
      "source": [
        "#(G) Trains?"
      ],
      "metadata": {
        "id": "Li6wCNM6aXkM"
      }
    },
    {
      "cell_type": "code",
      "execution_count": null,
      "metadata": {
        "id": "vNACQKAn3C8d"
      },
      "outputs": [],
      "source": [
        "N = int(input())\n",
        "if 1 <= N <= 100:\n",
        "    train_dict = {}\n",
        "    for i in range(N):\n",
        "        line = input()\n",
        "        train_name = line.split(\" \", 1)[0]\n",
        "        time_str = line.split()[-1]\n",
        "        hh, mm = map(int, time_str.split(\":\"))\n",
        "        departure_time = hh * 60 + mm\n",
        "\n",
        "        if train_name not in train_dict:\n",
        "            train_dict[train_name] = []\n",
        "        train_dict[train_name].append((departure_time, i, line))\n",
        "\n",
        "    sorted_train_names = list(train_dict.keys())\n",
        "\n",
        "    for i in range(len(sorted_train_names)):\n",
        "        min_idx = i\n",
        "        for j in range(i + 1, len(sorted_train_names)):\n",
        "            if sorted_train_names[j] < sorted_train_names[min_idx]:\n",
        "                min_idx = j\n",
        "        sorted_train_names[i], sorted_train_names[min_idx] = sorted_train_names[min_idx], sorted_train_names[i]\n",
        "\n",
        "    sorted_trains = []\n",
        "\n",
        "\n",
        "    for k in sorted_train_names:\n",
        "        schedules = train_dict[k]\n",
        "\n",
        "\n",
        "        for i in range(len(schedules)):\n",
        "            max_idx = i\n",
        "            for j in range(i + 1, len(schedules)):\n",
        "                if schedules[j][0] > schedules[max_idx][0]:\n",
        "                    max_idx = j\n",
        "                elif schedules[j][0] == schedules[max_idx][0]:\n",
        "                    if schedules[j][1] < schedules[max_idx][1]:\n",
        "                        max_idx = j\n",
        "\n",
        "            schedules[i], schedules[max_idx] = schedules[max_idx], schedules[i]\n",
        "\n",
        "        sorted_trains.extend(schedules)\n",
        "\n",
        "    for train in sorted_trains:\n",
        "        print(train[2])\n",
        "\n",
        "# Input\n",
        "# 8\n",
        "# ABCD will departure for Mymensingh at 00:30\n",
        "# DhumketuExpress will departure for Chittagong at 02:30\n",
        "# ABC will departure for Dhaka at 17:30\n",
        "# ABCD will departure for Chittagong at 01:00\n",
        "# ABC will departure for Khulna at 03:00\n",
        "# ABC will departure for Barisal at 03:00\n",
        "# ABCE will departure for Sylhet at 23:05\n",
        "# PadmaExpress will departure for Dhaka at 19:30"
      ]
    }
  ]
}