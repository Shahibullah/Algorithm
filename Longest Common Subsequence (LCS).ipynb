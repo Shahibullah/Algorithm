{
 "cells": [
  {
   "cell_type": "code",
   "id": "initial_id",
   "metadata": {
    "collapsed": true,
    "ExecuteTime": {
     "end_time": "2025-05-11T11:49:25.055868Z",
     "start_time": "2025-05-11T11:49:25.049374Z"
    }
   },
   "source": [
    "X = \"ABCBDAB\"\n",
    "Y = \"BDCABA\"\n",
    "\n",
    "\n",
    "M = len(X)\n",
    "N = len(Y)\n",
    "matrix = []\n",
    "matrix = [[0, 0, 0, 0, 0, 0, 0],\n",
    "          [0, 0, 0, 0, 0, 0, 0],\n",
    "          [0, 0, 0, 0, 0, 0, 0],\n",
    "          [0, 0, 0, 0, 0, 0, 0],\n",
    "          [0, 0, 0, 0, 0, 0, 0],\n",
    "          [0, 0, 0, 0, 0, 0, 0],\n",
    "          [0, 0, 0, 0, 0, 0, 0],\n",
    "          [0, 0, 0, 0, 0, 0, 0]]\n",
    "row = len(matrix)\n",
    "col = len(matrix[0])\n",
    "for r in range(1,row):\n",
    "    for c in range(1,col):\n",
    "        if X[r-1]==Y[c-1]:\n",
    "            matrix[r][c] = matrix[r-1][c-1]+ 1\n",
    "        else:\n",
    "            matrix[r][c] = max(matrix[r-1][c],matrix[r][c-1])\n",
    "print(\"Length of LCS:\", matrix[M][N])\n",
    "lcs = []\n",
    "r = M\n",
    "c = N\n",
    "while r > 0 and c > 0:\n",
    "    if X[r - 1] == Y[c - 1]:\n",
    "        lcs.append(X[r - 1])\n",
    "        r -= 1\n",
    "        c -= 1\n",
    "    elif matrix[r - 1][c] >= matrix[r][c - 1]:\n",
    "        r -= 1\n",
    "    else:\n",
    "        c -= 1\n",
    "lcs.reverse()\n",
    "print(\"LCS sequence:\", ''.join(lcs))"
   ],
   "outputs": [
    {
     "name": "stdout",
     "output_type": "stream",
     "text": [
      "Length of LCS: 4\n",
      "LCS sequence: BCBA\n"
     ]
    }
   ],
   "execution_count": 54
  }
 ],
 "metadata": {
  "kernelspec": {
   "display_name": "Python 3",
   "language": "python",
   "name": "python3"
  },
  "language_info": {
   "codemirror_mode": {
    "name": "ipython",
    "version": 2
   },
   "file_extension": ".py",
   "mimetype": "text/x-python",
   "name": "python",
   "nbconvert_exporter": "python",
   "pygments_lexer": "ipython2",
   "version": "2.7.6"
  }
 },
 "nbformat": 4,
 "nbformat_minor": 5
}
