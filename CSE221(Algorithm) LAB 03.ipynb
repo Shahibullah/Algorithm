{
  "nbformat": 4,
  "nbformat_minor": 0,
  "metadata": {
    "colab": {
      "provenance": []
    },
    "kernelspec": {
      "name": "python3",
      "display_name": "Python 3"
    },
    "language_info": {
      "name": "python"
    }
  },
  "cells": [
    {
      "cell_type": "markdown",
      "source": [
        "#A Count the Inversion\n",
        "\n",
        "\n",
        "\n"
      ],
      "metadata": {
        "id": "LY3D2bVO-vDt"
      }
    },
    {
      "cell_type": "code",
      "execution_count": null,
      "metadata": {
        "colab": {
          "base_uri": "https://localhost:8080/"
        },
        "id": "H63rLGaGwEdX",
        "outputId": "fb58bc32-9b16-4499-ceb8-9b9171c2df35"
      },
      "outputs": [
        {
          "output_type": "stream",
          "name": "stdout",
          "text": [
            "5\n",
            "5 4 3 2 1\n",
            "10\n",
            "1 2 3 4 5\n"
          ]
        }
      ],
      "source": [
        "def merge_and_count(arr, temp_arr, left, mid, right):\n",
        "    i = left\n",
        "    j = mid + 1\n",
        "    k = left\n",
        "    inv_count = 0\n",
        "\n",
        "    while i <= mid and j <= right:\n",
        "        if arr[i] <= arr[j]:\n",
        "            temp_arr[k] = arr[i]\n",
        "            i += 1\n",
        "        else:\n",
        "            temp_arr[k] = arr[j]\n",
        "            inv_count += (mid - i + 1)\n",
        "            j += 1\n",
        "        k += 1\n",
        "\n",
        "    while i <= mid:\n",
        "        temp_arr[k] = arr[i]\n",
        "        i += 1\n",
        "        k += 1\n",
        "\n",
        "    while j <= right:\n",
        "        temp_arr[k] = arr[j]\n",
        "        j += 1\n",
        "        k += 1\n",
        "\n",
        "    for i in range(left, right + 1):\n",
        "        arr[i] = temp_arr[i]\n",
        "\n",
        "    return inv_count\n",
        "\n",
        "def merge_sort_and_count(arr, temp_arr, left, right):\n",
        "    inv_count = 0\n",
        "    if left < right:\n",
        "        mid = (left + right) // 2\n",
        "        inv_count += merge_sort_and_count(arr, temp_arr, left, mid)\n",
        "        inv_count += merge_sort_and_count(arr, temp_arr, mid + 1, right)\n",
        "        inv_count += merge_and_count(arr, temp_arr, left, mid, right)\n",
        "    return inv_count\n",
        "\n",
        "def count_inversions_and_sort(arr):\n",
        "    n = len(arr)\n",
        "    temp_arr = [0] * n\n",
        "    inv_count = merge_sort_and_count(arr, temp_arr, 0, n - 1)\n",
        "    return inv_count, arr\n",
        "\n",
        "n = int(input())\n",
        "arr = list(map(int, input().split()))\n",
        "inv_count, sorted_arr = count_inversions_and_sort(arr)\n",
        "print(inv_count)\n",
        "print(*sorted_arr)\n",
        "# InputCopy\n",
        "# 5\n",
        "# 1 2 3 4 5\n",
        "# OutputCopy\n",
        "# 0\n",
        "# 1 2 3 4 5"
      ]
    },
    {
      "cell_type": "markdown",
      "source": [
        "# B. Pair Maximization"
      ],
      "metadata": {
        "id": "hvtKG0ir-9bf"
      }
    },
    {
      "cell_type": "code",
      "source": [
        "def Pair_Maximization(arr, left, right):\n",
        "    if right - left + 1 < 2:\n",
        "        return None\n",
        "\n",
        "    mid = left + (right - left) // 2\n",
        "    left_side = Pair_Maximization(arr, left, mid)\n",
        "    right_side = Pair_Maximization(arr, mid + 1, right)\n",
        "\n",
        "    i = finding_max_left(arr, left, mid)\n",
        "    j = finding_max_right(arr, mid + 1, right)\n",
        "\n",
        "    valid_values = [i + j ** 2]\n",
        "    if left_side != None:\n",
        "        valid_values.append(left_side)\n",
        "    if right_side != None:\n",
        "        valid_values.append(right_side)\n",
        "\n",
        "    result = valid_values[0]\n",
        "    for val in valid_values:\n",
        "        if val > result:\n",
        "            result = val\n",
        "    return result\n",
        "\n",
        "\n",
        "def finding_max_left(arr, start, end):\n",
        "    max_val = arr[start]\n",
        "    for i in range(start, end + 1):\n",
        "        if arr[i] > max_val:\n",
        "            max_val = arr[i]\n",
        "    return max_val\n",
        "\n",
        "\n",
        "def finding_max_right(arr, start, end):\n",
        "    max_val = 0\n",
        "    for j in range(start, end + 1):\n",
        "        if arr[j] >= 0 and arr[j] > max_val:\n",
        "            max_val = arr[j]\n",
        "        elif arr[j] < 0 and -arr[j] > max_val:\n",
        "            max_val = -arr[j]\n",
        "\n",
        "    return max_val\n",
        "\n",
        "len_arr = int(input())\n",
        "arr = list(map(int, input().split()))\n",
        "\n",
        "max_sum = Pair_Maximization(arr, 0, len_arr - 1)\n",
        "print(max_sum)\n",
        "# InputCopy\n",
        "# 5\n",
        "# 4 3 1 -9 6\n",
        "# OutputCopy\n",
        "# 85"
      ],
      "metadata": {
        "colab": {
          "base_uri": "https://localhost:8080/"
        },
        "id": "XU82cmcHxmiY",
        "outputId": "72e89aa3-3973-4c2a-ec4c-eaf2596352b8"
      },
      "execution_count": null,
      "outputs": [
        {
          "output_type": "stream",
          "name": "stdout",
          "text": [
            "100 3\n",
            "85\n"
          ]
        }
      ]
    },
    {
      "cell_type": "markdown",
      "source": [
        "#C. Fast MOD Drift"
      ],
      "metadata": {
        "id": "XnmNSF9j_EfT"
      }
    },
    {
      "cell_type": "code",
      "source": [
        "import math\n",
        "def modular(a, b, mod):\n",
        "    return pow(a, b, mod)\n",
        "\n",
        "a, b = map(int, input().split())\n",
        "MOD = 107\n",
        "\n",
        "print(modular(a, b, MOD))\n",
        "# InputCopy\n",
        "# 100 3\n",
        "# OutputCopy\n",
        "# 85"
      ],
      "metadata": {
        "colab": {
          "base_uri": "https://localhost:8080/"
        },
        "id": "pe4wxieZ46aG",
        "outputId": "84dcaf1e-145e-45d7-abc6-370e097b81bd"
      },
      "execution_count": 3,
      "outputs": [
        {
          "output_type": "stream",
          "name": "stdout",
          "text": [
            "100 3\n",
            "85\n"
          ]
        }
      ]
    },
    {
      "cell_type": "markdown",
      "source": [
        "#D. Fast MOD Drift Revisited"
      ],
      "metadata": {
        "id": "4Sdaex5L_ZYm"
      }
    },
    {
      "cell_type": "code",
      "source": [
        "def mod(a, b, m):\n",
        "    result = 1\n",
        "    flg = True\n",
        "    a = a % m\n",
        "    while b > 0 and flg:\n",
        "        if b % 2 == 1:\n",
        "            result = (result * a) % m\n",
        "        a = (a * a) % m\n",
        "        b = b // 2\n",
        "\n",
        "    return result\n",
        "\n",
        "def main(a, n, m):\n",
        "  if n == 1:\n",
        "    return a % m\n",
        "\n",
        "  half = n//2\n",
        "  res_half = main(a, half, m)\n",
        "  max = mod(a, half, m)\n",
        "\n",
        "  if n % 2:\n",
        "    return (res_half + max*res_half + mod(a, n, m)) % m\n",
        "\n",
        "  else:\n",
        "    return (res_half + max*res_half) % m\n",
        "\n",
        "\n",
        "n = int(input())\n",
        "for i in range(n):\n",
        "    a,n,m = map(int,input().split(\" \"))\n",
        "    result = main(a,n,m)\n",
        "\n",
        "    print(result)\n",
        "# 3\n",
        "# 2 5 1000\n",
        "# 2 9 1000\n",
        "# 1 100 30\n",
        "# Output\n",
        "# 62\n",
        "# 22\n",
        "# 10"
      ],
      "metadata": {
        "colab": {
          "base_uri": "https://localhost:8080/"
        },
        "id": "S6Cd_FpS6r2G",
        "outputId": "b332bd87-764d-47c2-9f41-60069bf50c02"
      },
      "execution_count": null,
      "outputs": [
        {
          "output_type": "stream",
          "name": "stdout",
          "text": [
            "5\n",
            "1 2 3 4 5\n",
            "1 2 3 4 5\n"
          ]
        }
      ]
    },
    {
      "cell_type": "markdown",
      "source": [
        "# **E. Ordering Binary Tree**"
      ],
      "metadata": {
        "id": "a2NbcAR7_wRq"
      }
    },
    {
      "cell_type": "code",
      "source": [
        "def tree(arr, left, right, output):\n",
        "    if left > right:\n",
        "        return\n",
        "    mid = (left + right) // 2\n",
        "    output.append(arr[mid])\n",
        "    tree(arr, left, mid - 1, output)\n",
        "    tree(arr, mid + 1, right, output)\n",
        "\n",
        "def solve():\n",
        "    n = int(input())\n",
        "    arr = list(map(int, input().split()))\n",
        "    output = []\n",
        "    tree(arr, 0, n - 1, output)\n",
        "    print(\" \".join(map(str, output)))\n",
        "\n",
        "solve()\n",
        "# Input\n",
        "# 5\n",
        "# 1 2 3 4 5\n",
        "# Output\n",
        "# 3 1 2 4 5"
      ],
      "metadata": {
        "id": "LZd22E1l_-uN"
      },
      "execution_count": null,
      "outputs": []
    },
    {
      "cell_type": "markdown",
      "source": [
        "#F. 220 Trees"
      ],
      "metadata": {
        "id": "ruLONXV0AC8P"
      }
    },
    {
      "cell_type": "code",
      "source": [
        "def build_tree(in_order, pre_order, in_start, in_end, pre_index, in_map):\n",
        "    if in_start > in_end:\n",
        "        return None, pre_index\n",
        "\n",
        "    root_val = pre_order[pre_index]\n",
        "    pre_index += 1\n",
        "    root_pos = in_map[root_val]\n",
        "\n",
        "    left_subtree, pre_index = build_tree(in_order, pre_order, in_start, root_pos - 1, pre_index, in_map)\n",
        "    right_subtree, pre_index = build_tree(in_order, pre_order, root_pos + 1, in_end, pre_index, in_map)\n",
        "\n",
        "    return (root_val, left_subtree, right_subtree), pre_index\n",
        "\n",
        "def post_order_traversal(root):\n",
        "    if root is None:\n",
        "        return []\n",
        "\n",
        "    root_val, left_subtree, right_subtree = root\n",
        "    return post_order_traversal(left_subtree) + post_order_traversal(right_subtree) + [root_val]\n",
        "\n",
        "def solve():\n",
        "    n = int(input())\n",
        "    in_order = list(map(int, input().split()))\n",
        "    pre_order = list(map(int, input().split()))\n",
        "\n",
        "    in_map = {value: idx for idx, value in enumerate(in_order)}\n",
        "    tree, l = build_tree(in_order, pre_order, 0, n - 1, 0, in_map)\n",
        "    print(\" \".join(map(str, post_order_traversal(tree))))\n",
        "\n",
        "\n",
        "solve()\n",
        "# Input\n",
        "# 5\n",
        "# 4 2 5 1 3\n",
        "# 1 2 4 5 3\n",
        "# Output\n",
        "# 4 5 2 3 1"
      ],
      "metadata": {
        "id": "A-cRLytjAK5W"
      },
      "execution_count": null,
      "outputs": []
    }
  ]
}