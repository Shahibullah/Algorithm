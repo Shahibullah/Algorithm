{
  "nbformat": 4,
  "nbformat_minor": 0,
  "metadata": {
    "colab": {
      "provenance": []
    },
    "kernelspec": {
      "name": "python3",
      "display_name": "Python 3"
    },
    "language_info": {
      "name": "python"
    }
  },
  "cells": [
    {
      "cell_type": "code",
      "execution_count": 4,
      "metadata": {
        "colab": {
          "base_uri": "https://localhost:8080/"
        },
        "id": "H6apwPU2AUuF",
        "outputId": "c3a1f184-7e47-46a5-9bcc-e85e4e5afba0"
      },
      "outputs": [
        {
          "output_type": "stream",
          "name": "stdout",
          "text": [
            "0 0 9 0 6 0 \n",
            "0 0 0 0 0 0 \n",
            "0 0 0 7 0 0 \n",
            "0 0 0 0 0 1 \n",
            "0 0 0 0 0 8 \n",
            "6 0 5 0 0 0 \n"
          ]
        }
      ],
      "source": [
        "nodes = []\n",
        "graph = []\n",
        "node_count = 0\n",
        "\n",
        "def add_node(v):\n",
        "    global node_count\n",
        "    if v not in nodes:\n",
        "        node_count += 1\n",
        "        nodes.append(v)\n",
        "        for row in graph:\n",
        "            row.append(0)\n",
        "        temp = [0] * node_count\n",
        "        graph.append(temp)\n",
        "\n",
        "def add_edge(v1, v2, cost):\n",
        "    if v1 in nodes and v2 in nodes:\n",
        "        index1 = nodes.index(v1)\n",
        "        index2 = nodes.index(v2)\n",
        "        graph[index1][index2] = cost\n",
        "\n",
        "def print_graph():\n",
        "    for i in range(node_count):\n",
        "        for j in range(node_count):\n",
        "            print(graph[i][j], end=\" \")\n",
        "        print()\n",
        "\n",
        "\n",
        "add_node(1)\n",
        "add_node(2)\n",
        "add_node(3)\n",
        "add_node(4)\n",
        "add_node(5)\n",
        "add_node(6)\n",
        "\n",
        "add_edge(1, 5, 6)\n",
        "add_edge(6, 3, 5)\n",
        "add_edge(1, 3, 9)\n",
        "add_edge(3, 4, 7)\n",
        "add_edge(4, 6, 1)\n",
        "add_edge(5, 6, 8)\n",
        "add_edge(6, 1, 6)\n",
        "\n",
        "print_graph()\n"
      ]
    },
    {
      "cell_type": "markdown",
      "source": [
        "#Adjacency Matrix Representation"
      ],
      "metadata": {
        "id": "zSSHSKRQLyHH"
      }
    },
    {
      "cell_type": "code",
      "source": [
        "nodes = []\n",
        "graph = []\n",
        "node_count = 0\n",
        "\n",
        "def add_node(v):\n",
        "    global node_count\n",
        "    if v not in nodes:\n",
        "        node_count += 1\n",
        "        nodes.append(v)\n",
        "        for row in graph:\n",
        "            row.append(0)\n",
        "        temp = [0] * node_count\n",
        "        graph.append(temp)\n",
        "\n",
        "def add_edge(v1, v2, cost):\n",
        "    if v1 in nodes and v2 in nodes:\n",
        "        index1 = nodes.index(v1)\n",
        "        index2 = nodes.index(v2)\n",
        "        graph[index1][index2] = cost\n",
        "\n",
        "def print_graph():\n",
        "    for i in range(node_count):\n",
        "        for j in range(node_count):\n",
        "            print(graph[i][j], end=\" \")\n",
        "        print()\n",
        "\n",
        "# ====== Input and Execution ======\n",
        "\n",
        "# Read node and edge count\n",
        "n, e = map(int, input().split())\n",
        "\n",
        "# Add all nodes from 1 to n\n",
        "for i in range(1, n+1):\n",
        "    add_node(i)\n",
        "\n",
        "# Read and add all edges\n",
        "for _ in range(e):\n",
        "    u, v, w = map(int, input().split())\n",
        "    add_edge(u, v, w)\n",
        "\n",
        "# Print the adjacency matrix\n",
        "print_graph()\n",
        "# InputCopy\n",
        "# 6 7\n",
        "# 1 5 6\n",
        "# 6 3 5\n",
        "# 1 3 9\n",
        "# 3 4 7\n",
        "# 4 6 1\n",
        "# 5 6 8\n",
        "# 6 1 6\n",
        "# OutputCopy\n",
        "# 0 0 9 0 6 0\n",
        "# 0 0 0 0 0 0\n",
        "# 0 0 0 7 0 0\n",
        "# 0 0 0 0 0 1\n",
        "# 0 0 0 0 0 8\n",
        "# 6 0 5 0 0 0"
      ],
      "metadata": {
        "colab": {
          "base_uri": "https://localhost:8080/"
        },
        "id": "ExQJ2451KIg8",
        "outputId": "d08ca85b-efa3-45d6-ced5-8282b6549b1b"
      },
      "execution_count": 9,
      "outputs": [
        {
          "output_type": "stream",
          "name": "stdout",
          "text": [
            "6 7\n",
            "1 5 6\n",
            "6 3 5\n",
            "1 3 9\n",
            "3 4 7\n",
            "4 6 1\n",
            "5 6 8\n",
            "6 1 6\n",
            "0 0 9 0 6 0 \n",
            "0 0 0 0 0 0 \n",
            "0 0 0 7 0 0 \n",
            "0 0 0 0 0 1 \n",
            "0 0 0 0 0 8 \n",
            "6 0 5 0 0 0 \n"
          ]
        }
      ]
    },
    {
      "cell_type": "markdown",
      "source": [
        "#Adjacency List Representation#\n",
        "\n"
      ],
      "metadata": {
        "id": "1nrsQSeEL9Im"
      }
    },
    {
      "cell_type": "code",
      "source": [
        "# Read number of nodes and edges\n",
        "N, M = map(int, input().split())\n",
        "\n",
        "# Read edge info: u (from), v (to), w (weight)\n",
        "u = list(map(int, input().split()))\n",
        "v = list(map(int, input().split()))\n",
        "w = list(map(int, input().split()))\n",
        "\n",
        "# Initialize adjacency list\n",
        "adj_list = [[] for _ in range(N + 1)]  # 1-based indexing\n",
        "\n",
        "# Populate adjacency list\n",
        "for i in range(M):\n",
        "    adj_list[u[i]].append((v[i], w[i]))\n",
        "\n",
        "# Output the adjacency list\n",
        "for i in range(1, N + 1):\n",
        "    print(f\"{i}:\", end=\" \")\n",
        "    for dest, weight in adj_list[i]:\n",
        "        print(f\"({dest},{weight})\", end=\" \")\n",
        "    print()\n"
      ],
      "metadata": {
        "id": "UjkZwLL5KSZq"
      },
      "execution_count": 8,
      "outputs": []
    },
    {
      "cell_type": "markdown",
      "source": [
        "# Graph Metamorphosis"
      ],
      "metadata": {
        "id": "kgk3YsDLQNrU"
      }
    },
    {
      "cell_type": "code",
      "source": [
        "# Read number of vertices\n",
        "N = int(input())\n",
        "\n",
        "# Initialize N x N adjacency matrix with zeros (no list comprehension)\n",
        "adj_matrix = []\n",
        "for i in range(N):\n",
        "    row = []\n",
        "    for j in range(N):\n",
        "        row.append(0)\n",
        "    adj_matrix.append(row)\n",
        "\n",
        "# Read adjacency list and fill the matrix\n",
        "for i in range(N):\n",
        "    data = input().split()\n",
        "    k = int(data[0])  # number of neighbors\n",
        "    for j in range(1, k + 1):\n",
        "        neighbor = int(data[j])\n",
        "        adj_matrix[i][neighbor] = 1\n",
        "\n",
        "# Print the adjacency matrix\n",
        "for i in range(N):\n",
        "    for j in range(N):\n",
        "        print(adj_matrix[i][j], end=\" \")\n",
        "    print()\n",
        "# InputCopy\n",
        "# 4 5\n",
        "# 4 1 4 3 3\n",
        "# 3 2 2 2 1\n",
        "# 4 4 10 8 5\n",
        "# OutputCopy\n",
        "# 1: (2,4)\n",
        "# 2:\n",
        "# 3: (2,8) (1,5)\n",
        "# 4: (3,4) (2,10)"
      ],
      "metadata": {
        "id": "5EXC6x8_P_b3"
      },
      "execution_count": null,
      "outputs": []
    },
    {
      "cell_type": "markdown",
      "source": [
        "#The Seven Bridges of Königsberg"
      ],
      "metadata": {
        "id": "lGhEmWIgShcb"
      }
    },
    {
      "cell_type": "code",
      "source": [
        "def has_eulerian_path():\n",
        "    # Read number of nodes and edges\n",
        "    N, M = map(int, input().split())\n",
        "\n",
        "    # Read edges: first list of u, then list of v\n",
        "    u = list(map(int, input().split()))\n",
        "    v = list(map(int, input().split()))\n",
        "\n",
        "    # Initialize degree array\n",
        "    degree = [0] * (N + 1)\n",
        "\n",
        "    # Count degrees (self-loops add 2)\n",
        "    for i in range(M):\n",
        "        if u[i] == v[i]:\n",
        "            degree[u[i]] += 2\n",
        "        else:\n",
        "            degree[u[i]] += 1\n",
        "            degree[v[i]] += 1\n",
        "\n",
        "    # Count vertices with odd degree\n",
        "    odd_count = 0\n",
        "    for i in range(1, N + 1):\n",
        "        if degree[i] % 2 != 0:\n",
        "            odd_count += 1\n",
        "\n",
        "    # Eulerian path exists if 0 or 2 odd degree vertices\n",
        "    if odd_count == 0 or odd_count == 2:\n",
        "        print(\"YES\")\n",
        "    else:\n",
        "        print(\"NO\")\n",
        "\n",
        "# Run the function\n",
        "has_eulerian_path()\n",
        "# InputCopy\n",
        "# 5 10\n",
        "# 5 5 5 2 2 2 3 3 4 2\n",
        "# 2 3 1 3 4 1 4 1 2 4\n",
        "# OutputCopy\n",
        "# YES"
      ],
      "metadata": {
        "id": "0kdV3MIsQBuO"
      },
      "execution_count": null,
      "outputs": []
    },
    {
      "cell_type": "markdown",
      "source": [
        "#Edge Queries"
      ],
      "metadata": {
        "id": "k6lo06_zjobl"
      }
    },
    {
      "cell_type": "code",
      "source": [
        "N, M = map(int, input().split())\n",
        "\n",
        "u = list(map(int, input().split()))\n",
        "v = list(map(int, input().split()))\n",
        "\n",
        "indegree = [0] * (N + 1)\n",
        "outdegree = [0] * (N + 1)\n",
        "\n",
        "for i in range(M):\n",
        "    outdegree[u[i]] += 1\n",
        "    indegree[v[i]] += 1\n",
        "\n",
        "for i in range(1, N + 1):\n",
        "    print(indegree[i] - outdegree[i], end=\" \")\n",
        "# InputCopy\n",
        "# 5 10\n",
        "# 2 5 4 3 2 4 3 4 1 3\n",
        "# 5 1 5 5 1 2 2 1 3 4\n",
        "# OutputCopy\n",
        "# 2 0 -2 -2 2"
      ],
      "metadata": {
        "colab": {
          "base_uri": "https://localhost:8080/"
        },
        "id": "WnSiQwJbjBpc",
        "outputId": "5138ae5d-20ba-4e59-fb1c-a38fe4e1b641"
      },
      "execution_count": 2,
      "outputs": [
        {
          "output_type": "stream",
          "name": "stdout",
          "text": [
            "5 10\n",
            "2 5 4 3 2 4 3 4 1 3\n",
            "5 1 5 5 1 2 2 1 3 4\n",
            "2 0 -2 -2 2 "
          ]
        }
      ]
    },
    {
      "cell_type": "markdown",
      "source": [
        "#The King of Königsberg"
      ],
      "metadata": {
        "id": "Jgo2efg5mGdX"
      }
    },
    {
      "cell_type": "code",
      "source": [
        "\n",
        "N = int(input())\n",
        "x, y = map(int, input().split())\n",
        "\n",
        "\n",
        "directions = {\n",
        "    \"top-left\": (-1, -1),\n",
        "    \"top\": (-1, 0),\n",
        "    \"top-right\": (-1, 1),\n",
        "    \"left\": (0, -1),\n",
        "    \"right\": (0, 1),\n",
        "    \"bottom-left\": (1, -1),\n",
        "    \"bottom\": (1, 0),\n",
        "    \"bottom-right\": (1, 1)\n",
        "}\n",
        "\n",
        "\n",
        "valid_moves = []\n",
        "\n",
        "for name, (dx, dy) in directions.items():\n",
        "    nx, ny = x + dx, y + dy\n",
        "    if 1 <= nx <= N and 1 <= ny <= N:\n",
        "        valid_moves.append((nx, ny))\n",
        "\n",
        "\n",
        "valid_moves.sort()\n",
        "\n",
        "\n",
        "print(len(valid_moves))\n",
        "for move in valid_moves:\n",
        "    print(move[0], move[1])\n",
        "# InputCopy\n",
        "# 8\n",
        "# 1 1\n",
        "# OutputCopy\n",
        "# 3\n",
        "# 1 2\n",
        "# 2 1\n",
        "# 2 2"
      ],
      "metadata": {
        "id": "C7jqSlY5k3Qg"
      },
      "execution_count": null,
      "outputs": []
    },
    {
      "cell_type": "markdown",
      "source": [
        "#Coprime Graph"
      ],
      "metadata": {
        "id": "4bCUrxQ25RUE"
      }
    },
    {
      "cell_type": "code",
      "source": [
        "# Function to calculate GCD without using math module\n",
        "def get_gcd(a, b):\n",
        "    while b:\n",
        "        a, b = b, a % b\n",
        "    return a\n",
        "\n",
        "# Reading input\n",
        "N_Q = input().split()\n",
        "N = int(N_Q[0])\n",
        "Q = int(N_Q[1])\n",
        "\n",
        "# Build graph: graph[i] will contain all nodes j such that gcd(i, j) == 1 and i != j\n",
        "graph = []\n",
        "for _ in range(N + 1):\n",
        "    graph.append([])\n",
        "\n",
        "for i in range(1, N + 1):\n",
        "    for j in range(1, N + 1):\n",
        "        if i != j and get_gcd(i, j) == 1:\n",
        "            graph[i].append(j)\n",
        "\n",
        "# Sort each adjacency list manually (without using list comprehensions or .sort())\n",
        "for i in range(1, N + 1):\n",
        "    # Manual sorting (simple bubble sort to stick to restrictions)\n",
        "    neighbors = graph[i]\n",
        "    for a in range(len(neighbors)):\n",
        "        for b in range(a + 1, len(neighbors)):\n",
        "            if neighbors[b] < neighbors[a]:\n",
        "                neighbors[a], neighbors[b] = neighbors[b], neighbors[a]\n",
        "\n",
        "# Answer queries\n",
        "for _ in range(Q):\n",
        "    X_K = input().split()\n",
        "    X = int(X_K[0])\n",
        "    K = int(X_K[1])\n",
        "\n",
        "    if K <= len(graph[X]):\n",
        "        print(graph[X][K - 1])\n",
        "    else:\n",
        "        print(-1)\n",
        "# InputCopy\n",
        "# 5 6\n",
        "# 1 3\n",
        "# 3 1\n",
        "# 4 2\n",
        "# 5 5\n",
        "# 3 4\n",
        "# 5 2\n",
        "# OutputCopy\n",
        "# 4\n",
        "# 1\n",
        "# 3\n",
        "# -1\n",
        "# 5\n",
        "# 2\n"
      ],
      "metadata": {
        "colab": {
          "base_uri": "https://localhost:8080/"
        },
        "id": "sMjXBlwHFg3y",
        "outputId": "9164d490-aa38-4800-ecc3-4f6eff7d3d39"
      },
      "execution_count": 4,
      "outputs": [
        {
          "output_type": "stream",
          "name": "stdout",
          "text": [
            "5 6\n",
            "1 3\n",
            "4\n",
            "3 1\n",
            "1\n",
            "4 2\n",
            "3\n",
            "5 5\n",
            "-1\n",
            "3 4\n",
            "5\n",
            "5 2\n",
            "2\n"
          ]
        }
      ]
    }
  ]
}