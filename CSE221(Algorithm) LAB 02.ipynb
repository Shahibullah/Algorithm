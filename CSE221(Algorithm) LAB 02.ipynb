{
  "nbformat": 4,
  "nbformat_minor": 0,
  "metadata": {
    "colab": {
      "provenance": []
    },
    "kernelspec": {
      "name": "python3",
      "display_name": "Python 3"
    },
    "language_info": {
      "name": "python"
    }
  },
  "cells": [
    {
      "cell_type": "markdown",
      "source": [
        "#A. Two Sum Trouble"
      ],
      "metadata": {
        "id": "ySN8jg6beNpX"
      }
    },
    {
      "cell_type": "code",
      "execution_count": null,
      "metadata": {
        "colab": {
          "base_uri": "https://localhost:8080/"
        },
        "id": "1oF5gyPacAV7",
        "outputId": "51f5fb9a-b532-42a4-fc84-503bda2992ab"
      },
      "outputs": [
        {
          "output_type": "stream",
          "name": "stdout",
          "text": [
            "6 18\n",
            "1 5 8 9 9 10\n",
            "3 6\n"
          ]
        }
      ],
      "source": [
        "n, s = map(int, input().split())\n",
        "if 1 <= n <= 10**6 and 1 <= s <= 10**9:\n",
        "  arr = list(map(int, input().split()))\n",
        "  l, r = 0, n - 1\n",
        "  flg = False\n",
        "  while l < r:\n",
        "      current_sum = arr[l] + arr[r]\n",
        "      if current_sum == s:\n",
        "          print(l + 1, r + 1)\n",
        "          flg = True\n",
        "          break\n",
        "      elif current_sum < s:\n",
        "          l += 1\n",
        "      else:\n",
        "          r -= 1\n",
        "if flg == False:\n",
        "  print(-1)\n",
        "\n",
        "# 6 18\n",
        "# 1 5 8 9 9 10\n",
        "# output : 3 6"
      ]
    },
    {
      "cell_type": "markdown",
      "source": [
        "#B. A Beautiful Sorted List"
      ],
      "metadata": {
        "id": "5K48bIULfgdo"
      }
    },
    {
      "cell_type": "code",
      "source": [
        "N = int(input())\n",
        "list_N = list(map(int, input().split()))\n",
        "M = int(input())\n",
        "list_M = list(map(int, input().split()))\n",
        "\n",
        "if 1 <= N <= 10**6 and 1 <= M <= 10**6:\n",
        "    i, j = 0, 0\n",
        "    merged_list = []\n",
        "\n",
        "    while i < M and j < N:\n",
        "        if list_M[i] < list_N[j]:\n",
        "            merged_list.append(list_M[i])\n",
        "            i += 1\n",
        "        else:\n",
        "            merged_list.append(list_N[j])\n",
        "            j += 1\n",
        "\n",
        "    while i < M:\n",
        "        merged_list.append(list_M[i])\n",
        "        i += 1\n",
        "    while j < N:\n",
        "        merged_list.append(list_N[j])\n",
        "        j += 1\n",
        "\n",
        "print(*merged_list)\n",
        "# 4\n",
        "# 1 2 12 13\n",
        "# 3\n",
        "# 10 15 18"
      ],
      "metadata": {
        "colab": {
          "base_uri": "https://localhost:8080/"
        },
        "id": "uAfcNdDrfXvl",
        "outputId": "ad4b954d-cdc9-4313-929a-fb97484b3493"
      },
      "execution_count": null,
      "outputs": [
        {
          "output_type": "stream",
          "name": "stdout",
          "text": [
            "4\n",
            "1 2 12 13\n",
            "3\n",
            "10 15 18\n",
            "[1, 2, 10, 12, 13, 15, 18]\n"
          ]
        }
      ]
    },
    {
      "cell_type": "markdown",
      "source": [
        "#C. Longest Subarray Sum"
      ],
      "metadata": {
        "id": "QJX3IRffFoKm"
      }
    },
    {
      "cell_type": "code",
      "source": [
        "N, K = map(int, input().split())\n",
        "arr = list(map(int, input().split()))\n",
        "\n",
        "if 1<= N <= 10**5 and  1<= K <= 10**9:\n",
        "  i = 0\n",
        "  j = 0\n",
        "  current_sum = 0\n",
        "  max_len = 0\n",
        "\n",
        "  while j < N:\n",
        "    current_sum += arr[j]\n",
        "\n",
        "    while current_sum > K and i <= j:\n",
        "        current_sum -= arr[i]\n",
        "        i += 1\n",
        "\n",
        "    max_len = max(max_len, j - i + 1)\n",
        "\n",
        "    j += 1\n",
        "\n",
        "print(max_len)\n",
        "# 5 4\n",
        "# 4 1 2 1 5"
      ],
      "metadata": {
        "colab": {
          "base_uri": "https://localhost:8080/"
        },
        "id": "608qfdFEu8-w",
        "outputId": "c15d6893-2909-47f0-c01a-3f60d1eeb72a"
      },
      "execution_count": null,
      "outputs": [
        {
          "output_type": "stream",
          "name": "stdout",
          "text": [
            "5 4\n",
            "4 1 2 1 5\n",
            "3\n"
          ]
        }
      ]
    },
    {
      "cell_type": "markdown",
      "source": [
        "#D. Can you Iterate the Binary String?"
      ],
      "metadata": {
        "id": "3ACA5VHsFU8U"
      }
    },
    {
      "cell_type": "code",
      "source": [
        "def find_one(s, left, right):\n",
        "    if left > right:\n",
        "        return -1\n",
        "\n",
        "    mid = (left + right) // 2\n",
        "\n",
        "    if s[mid] == '1':\n",
        "        first_occurrence = find_one(s, left, mid - 1)\n",
        "\n",
        "        if first_occurrence == -1:\n",
        "            return mid + 1\n",
        "        else:\n",
        "            return first_occurrence\n",
        "    else:\n",
        "        return find_one(s, mid + 1, right)\n",
        "\n",
        "\n",
        "T = int(input())\n",
        "results = []\n",
        "\n",
        "for i in range(T):\n",
        "    S = input().strip()\n",
        "    results.append(find_one(S, 0, len(S) - 1))\n",
        "\n",
        "print(\"\\n\".join(map(str, results)))\n"
      ],
      "metadata": {
        "id": "eBQXY1wA3p0u",
        "colab": {
          "base_uri": "https://localhost:8080/"
        },
        "outputId": "2431f0dd-bf8e-4786-b4b7-ba4fbd62d773"
      },
      "execution_count": 7,
      "outputs": [
        {
          "output_type": "stream",
          "name": "stdout",
          "text": [
            "1\n",
            "0\n",
            "-1\n"
          ]
        }
      ]
    },
    {
      "cell_type": "markdown",
      "source": [
        "#E. Count the Numbers"
      ],
      "metadata": {
        "id": "hZ2dEM5ggqwr"
      }
    },
    {
      "cell_type": "code",
      "source": [
        "def lower_bound(arr, X):\n",
        "    left, right = 0, len(arr)\n",
        "    while left < right:\n",
        "        mid = (left + right) // 2\n",
        "        if arr[mid] < X:\n",
        "            left = mid + 1\n",
        "        else:\n",
        "            right = mid\n",
        "    return left\n",
        "\n",
        "\n",
        "def upper_bound(arr, X):\n",
        "    left, right = 0, len(arr)\n",
        "    while left < right:\n",
        "        mid = (left + right) // 2\n",
        "        if arr[mid] <= X:\n",
        "            left = mid + 1\n",
        "        else:\n",
        "            right = mid\n",
        "    return left\n",
        "\n",
        "\n",
        "N, Q = map(int, input().split())\n",
        "arr = list(map(int, input().split()))\n",
        "\n",
        "\n",
        "\n",
        "\n",
        "results = []\n",
        "for i in range(Q):\n",
        "    lower, upper = map(int, input().split())\n",
        "\n",
        "    count = upper_bound(arr, upper) - lower_bound(arr, lower)\n",
        "    results.append(str(count))\n",
        "\n",
        "print(\"\\n\".join(results))\n",
        "\n",
        "\n",
        "# Input\n",
        "# 5 3\n",
        "# 10 20 20 45 79\n",
        "# 20 50\n",
        "# 5 45\n",
        "# 1 100\n",
        "# Output\n",
        "# 3\n",
        "# 4\n",
        "# 5"
      ],
      "metadata": {
        "colab": {
          "base_uri": "https://localhost:8080/"
        },
        "id": "rP14DlYcUIp6",
        "outputId": "a01332dd-1fc2-4a4b-f9c0-7b774708252c"
      },
      "execution_count": 5,
      "outputs": [
        {
          "output_type": "stream",
          "name": "stdout",
          "text": [
            "5 3\n",
            "10 20 20 45 79\n",
            "20 50\n",
            "5 45\n",
            "1 100\n",
            "3\n",
            "4\n",
            "5\n"
          ]
        }
      ]
    },
    {
      "cell_type": "code",
      "source": [],
      "metadata": {
        "colab": {
          "base_uri": "https://localhost:8080/"
        },
        "id": "8dI8hKN8_quD",
        "outputId": "e2aee820-0f1c-4b85-b5e4-55206c99b14b"
      },
      "execution_count": 9,
      "outputs": [
        {
          "output_type": "stream",
          "name": "stdout",
          "text": [
            "2\n",
            "0000000\n",
            "00000001111111111111111\n",
            "-1\n",
            "8\n"
          ]
        }
      ]
    },
    {
      "cell_type": "code",
      "source": [],
      "metadata": {
        "colab": {
          "base_uri": "https://localhost:8080/"
        },
        "id": "jIMxnH23C3G2",
        "outputId": "53a6dcf2-7a82-43b6-f6d3-ddf9e54f2d0d"
      },
      "execution_count": 14,
      "outputs": [
        {
          "output_type": "stream",
          "name": "stdout",
          "text": [
            "2\n",
            "0000\n",
            "0001\n",
            "-1\n",
            "4\n"
          ]
        }
      ]
    }
  ]
}